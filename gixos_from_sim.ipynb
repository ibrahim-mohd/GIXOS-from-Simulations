{
 "cells": [
  {
   "cell_type": "markdown",
   "id": "b60e5aa6-a8a1-4999-848e-0af0a9375298",
   "metadata": {},
   "source": [
    "# Import necessary packages"
   ]
  },
  {
   "cell_type": "code",
   "execution_count": 1,
   "id": "9b8606ef-5986-4153-bf4b-7a39840df201",
   "metadata": {},
   "outputs": [],
   "source": [
    "# Written by Mohd Ibrahim\n",
    "# Institute of Physics, University of Augsburg, Germany\n",
    "# email: ibrahim.mohd@physik.uni-augsburg.de\n",
    "\n",
    "import warnings\n",
    "warnings.filterwarnings(\"ignore\")\n",
    "\n",
    "import numpy as np\n",
    "import matplotlib.pyplot as plt\n",
    "\n",
    "from matplotlib import gridspec\n",
    "from scipy.interpolate import interp1d\n",
    "from tqdm import tqdm \n",
    "\n",
    "\n",
    "plt.rc('xtick', labelsize=16) \n",
    "plt.rc('ytick', labelsize=16) \n",
    "plt.rc('axes', labelsize=16)\n",
    "\n",
    "%matplotlib inline"
   ]
  },
  {
   "cell_type": "code",
   "execution_count": 2,
   "id": "28a48729-017f-4b30-8b30-0a62ea4ea047",
   "metadata": {},
   "outputs": [],
   "source": [
    "# import Refnx packages\n",
    "from refnx.reflect import SLD, Slab, ReflectModel\n",
    "from refnx.reflect import reflectivity, Structure\n",
    "from refnx.analysis import CurveFitter, Objective, Parameter, GlobalObjective\n",
    "from refnx.dataset import Data1D"
   ]
  },
  {
   "cell_type": "markdown",
   "id": "ed4a2345-5608-4925-8f6b-09ebfbac4a7d",
   "metadata": {},
   "source": [
    "# Grazing Incidence X-ray Off-specular Scattering  (GIXOS)\n",
    "\n",
    "The GIXOS intensity from simulations (and experiments) is given by, <br>\n",
    "\\begin{aligned}\n",
    "I_{sim} (q_z) = \\frac{ V(q_z) R_q(q_z)} {R_F(q_z)}\n",
    "\\end{aligned}\n",
    "\n",
    "Where, <br>\n",
    "1. V($q_z$), is the Vineyard function, it is defined as follows\n",
    "\n",
    "\\begin{aligned}\n",
    "V(Q) = \n",
    "\\begin {cases}\n",
    "0 & \\text {,for Q<0} \\\\\n",
    "|2Q|^2 & \\text {,for 0<Q<1} \\\\\n",
    "\\left|\\frac{2Q}{Q+ \\sqrt{Q^2-1}}\\right|^2 & \\text {,for Q>1}\n",
    "\\end{cases}\n",
    "\\end{aligned}\n",
    "\n",
    "\n",
    "Where, $Q = \\frac{q_z}{q_v}$, $q_v = \\sqrt{16 \\pi\\rho_b}$ \n",
    "\n",
    "$\\rho_b$ is the electron density of bulk water times the classical electron radius ($2.8179403227\\times 10^{-15}$ m)\n",
    "\n",
    "<br>\n",
    "<br>\n",
    "\n",
    "2. $R_q(q_z),$ is the standard specular reflectivity intensity and $R_F(q_z)$ is the Fresnel reflectivity from an infinitely sharp (roughness=0) Air-Water interface \n",
    "\n",
    "\n",
    "<br>\n",
    "<br>\n",
    "\n",
    "3. Once we obtain $I_{sim} (q_z)$ from simulations, to compare with experiments we find an offset and scale factor that minimizes $\\chi^2$ between experiments and simulations.The final scattered intensity is given by,\n",
    "\n",
    "\\begin{aligned} &\n",
    "I (q_z) = \\text{ScaleFactor} \\times I_{sim} (q_z)+ \\text{Offset} \n",
    "\\end{aligned}\n"
   ]
  },
  {
   "cell_type": "markdown",
   "id": "18338fb0-47b5-4a7b-9db0-b56760a779b9",
   "metadata": {},
   "source": [
    "## Useful functions"
   ]
  },
  {
   "cell_type": "code",
   "execution_count": 3,
   "id": "d587d850-569d-4e53-af74-111ebd5fd697",
   "metadata": {},
   "outputs": [],
   "source": [
    "def interpolate(sld,points):\n",
    "    \n",
    "    '''\n",
    "    interpolates the input sld into specified number of points\n",
    "    '''\n",
    "    \n",
    "    size = np.shape(sld)\n",
    "    sldinterpolated = np.zeros((points,size[1]))\n",
    "    x = sld[:,0]\n",
    "    sldinterpolated[:,0] = np.linspace(min(x),max(x),points)\n",
    "    for j in range(1,size[1]):\n",
    "        \n",
    "        y=sld[:,j]\n",
    "        f = interp1d(x, y, kind='linear')\n",
    "        sldinterpolated[:,j]= f(sldinterpolated[:,0])\n",
    "        \n",
    "    return sldinterpolated\n",
    "\n",
    "\n",
    "\n",
    "def Fresnal_coefficient (bulk_sld, air_sld=0, thickness=5.0, roughness=0.0, return_sld = False):\n",
    "    \n",
    "    '''\n",
    "    This functions calculates the Fresnel reflectivity from Air-water interface. The interface is assumed to be\n",
    "    infinitely sharp i.e roughness=0\n",
    "    \n",
    "    args:\n",
    "        bulk_sld: Bulk sld of water typically its  (0.333 e/A^3)\n",
    "        air_sld: Default = 0, sld of air\n",
    "        \n",
    "        thickness:  of the interfaces, this thicness does not matter since one is the incoming medium and the other\n",
    "        is the outgoing medium\n",
    "        \n",
    "        roughness: of air-water interface, for the above GIXOS equation its zero i.e infinitely sharp\n",
    "        \n",
    "        return_sld: If set True return the total SLD of the interfaces, instead of returning the Fresnal reflectivity\n",
    "        intesity\n",
    "        \n",
    "    returns:\n",
    "        if \"return_sld=Flase\": returns Fresnel reflectivity intensity\n",
    "        \n",
    "        otherwise: returns the full SLD of the interface (Air-Water)\n",
    "    '''\n",
    "    \n",
    "    \n",
    "    Vaccum         =  Slab(thickness, air_sld, roughness, name='air')\n",
    "    \n",
    "    Aqueous_medium =  Slab(thickness, bulk_sld, roughness,name='water')\n",
    "    \n",
    "    Substrate_structure = Vaccum | Aqueous_medium\n",
    "    \n",
    "    R_calculated  = ReflectModel(Substrate_structure,dq=5,bkg=0)\n",
    "    \n",
    "    if return_sld : return Substrate_structure\n",
    "    \n",
    "    return R_calculated\n",
    "\n",
    "\n",
    "\n",
    "def vineyard (q, rho_bulk):\n",
    "    \n",
    "    '''\n",
    "    Calculates the vineyard function described in the Markdown\n",
    "    All units in Angstroms\n",
    "    \n",
    "    args:\n",
    "        q: q_z range, should be identical as used for Rq (q_z) and R_F (qz)\n",
    "        \n",
    "        rho_bulk: Bulk sld (electron density) of water typically its  (0.333 e/A^3)\n",
    "        \n",
    "    return:\n",
    "         Vineyard: v(q_z) function displayed in the Markdown\n",
    "    '''\n",
    "    \n",
    "    Vineyard =  []\n",
    "    \n",
    "    classical_electron_radius = 2.8179403227e-15 /1e-10 # Angstorm \n",
    "    \n",
    "    rho_b      =   rho_bulk * classical_electron_radius\n",
    "    \n",
    "    qv         =   np.sqrt (16*np.pi*rho_b)\n",
    "    \n",
    "    Q          =   q/qv\n",
    "        \n",
    "    \n",
    "    for q_i in Q:\n",
    "        \n",
    "        if q_i <= 0: Vineyard.append (0)\n",
    "        \n",
    "        if q_i >0 and q_i <=1:  Vineyard.append( (2*q_i)**2)  \n",
    "        \n",
    "        if q_i > 1: \n",
    "                   \n",
    "            func =  (2*q_i / (q_i + np.sqrt (q_i**2-1)) )**2\n",
    "            \n",
    "            Vineyard.append(func)  \n",
    "            \n",
    "    \n",
    "    #threshold_index = np.where (Q <= 0)[0][-1]\n",
    "    \n",
    "    return np.array (Vineyard)\n",
    "\n",
    "\n",
    "\n",
    "\n",
    "\n",
    "def Reflectivity_from_SLD (sld, q = np.linspace(0.001,0.8,500), return_sld=False,layer_thickness =1.0, roughness=0):\n",
    "    \n",
    "    '''\n",
    "       Calculates specular reflectivity by slicing the input sld profile. Uses the Abele's matrix formalism\n",
    "       \n",
    "       args:\n",
    "           sld: the sld profile, a 2D array with first coloumn z-distance and 2nd coloum as the sld\n",
    "           Note that the calculation assumes the x-ray is incident upon the left side of the sld\n",
    "           \n",
    "           q: the range of momenta transfer in Angstroms^-1. Default is unit 0.8. To compare with experiments the q values from\n",
    "           experiments must be provided\n",
    "           \n",
    "           return_sld: if set True, returns the sliced up sld profile. If False returns the reflectivity profile.\n",
    "           \n",
    "           layer_thickness: Thickness of sld slices. Default is 1.0 angstroms\n",
    "           roughness: roughness of each sld slices. Default is zeros. For 1.0 Angstrom thick layers, non-zeros roughness does not make sense\n",
    "           \n",
    "           \n",
    "        returns:\n",
    "            Reflectivity: if return_sld = False, Default behaviour\n",
    "            Sliced SLD:  if return_sld = True.\n",
    "    \n",
    "    '''\n",
    "    sld  = interpolate (sld, 800)\n",
    "    # Since up sld\n",
    "    Ref, Sld2 = Reflectivity_input (sld, layer_thickness=layer_thickness, roughness= roughness)\n",
    "    \n",
    "     \n",
    "\n",
    "    Str=[]\n",
    "\n",
    "    for i in range(0,len(Ref)):\n",
    "        c=Slab(Ref[i][0], Ref[i][1], Ref[i][3])\n",
    "        Str.append(c)\n",
    "\n",
    "    structure = Structure(Str)\n",
    "\n",
    "    R_calculated = ReflectModel(structure, dq=0, bkg=0)\n",
    "\n",
    "\n",
    "    if return_sld:      return structure\n",
    "\n",
    "    else: return R_calculated\n",
    "    \n",
    "\n",
    "    \n",
    "\n",
    "def Reflectivity_input (sld, layer_thickness=1, roughness=0):\n",
    "    \n",
    "    '''\n",
    "       Takes the SLD profile and slices it up in constant sld layers\n",
    "       args:\n",
    "           sld: a 2D sld array to be sliced. First coloumn is z-distance and 2nd is electron density or sld\n",
    "           \n",
    "           layer_thickness: Thickness of sld slices. Default is 1.0 angstroms\n",
    "           \n",
    "          roughness: roughness of each sld slices. Default is zero\n",
    "          \n",
    "        returns:\n",
    "              \n",
    "           Ref: Refnx style \"Slab\" data structure containing paramters for each slice. The info are roughness, thickness, sld,\n",
    "           SLD2: Sliced up SLD profile, just for verification if needed, to make sure slicing up is correct\n",
    "    '''\n",
    "    \n",
    "    \n",
    "    dz = np.abs(np.diff(sld[:,0])[0])\n",
    "\n",
    "    number_of_slabs = round((max(sld[:,0]) - min(sld[:,0])) / layer_thickness ) +1\n",
    "    number_of_slabs = int(number_of_slabs)\n",
    "    ave= int(round(len(sld) / number_of_slabs))# sld_points_in_a_slab \n",
    "    \n",
    "    #################\n",
    "    s = len(sld)-number_of_slabs*ave\n",
    "    d = int(np.floor((s/ave)))\n",
    "    SLD2=np.zeros((len(sld)-ave,2))\n",
    "    SLD2[:,0] = sld[0:len(sld)-ave,0]\n",
    "    ###########---------------\n",
    "    j = 0\n",
    "    SLD_layer=[]\n",
    "    \n",
    "    for i in range(0,number_of_slabs+d):\n",
    "        sld_slab = sum(sld[j:j+ave,1])/ave\n",
    "        SLD2[j:j+ave,1]=sld_slab\n",
    "        j=j+ave\n",
    "        SLD_layer.append(sld_slab)\n",
    "        \n",
    "    \n",
    "    Ref = np.zeros((len(SLD_layer),4))\n",
    "    \n",
    "    for i in range(0,len(Ref)):\n",
    "        Ref[i][0] = layer_thickness \n",
    "        Ref[i][1] = SLD_layer[i]\n",
    "        Ref[i][2] = 0  #sld_slab[i]\n",
    "        Ref[i][3] = roughness  #2.0*random.random()-0.5#sld_slab[i]]\n",
    "        \n",
    "    return Ref, SLD2\n",
    "\n",
    "\n",
    "\n",
    "def search_for_scale_and_offset (kwargs, experimental_Iq, simulation_Iq, N_grid_points = 500, return_chi=False):\n",
    "    \n",
    "    end = 1\n",
    "    \n",
    "    experimental_Iq  = experimental_Iq [:-end]\n",
    "    \n",
    "    simulation_Iq  = simulation_Iq [:-end]\n",
    "    \n",
    "    n_data_points = len(experimental_Iq)\n",
    "    \n",
    "    Offset = np.linspace (kwargs['min_offset'], kwargs['max_offset'], N_grid_points)\n",
    "    \n",
    "    Scale  = np.linspace (kwargs ['min_scale'], kwargs ['max_scale'], N_grid_points)\n",
    "    \n",
    "    \n",
    "    \n",
    "    Offset          = np.linspace (kwargs['min_offset'], kwargs['max_offset'], N_grid_points)\n",
    "\n",
    "    Scale           = np.linspace (kwargs ['min_scale'], kwargs ['max_scale'], N_grid_points)\n",
    "    \n",
    "\n",
    "    parameter_space = [(scale, offset) for scale in Scale for offset in Offset]\n",
    "    \n",
    "    Chi_sq  = []\n",
    "    \n",
    "    \n",
    "    for scale, offset in tqdm (parameter_space):\n",
    "        \n",
    "        New_Iq        = scale * simulation_Iq + offset \n",
    "        \n",
    "        \n",
    "        # Chi square\n",
    "        \n",
    "        chi_sq = sum ((New_Iq - experimental_Iq ) **2) / n_data_points\n",
    "        \n",
    "        Chi_sq.append (chi_sq)\n",
    "        \n",
    "       \n",
    "    arg_min = np.argmin (Chi_sq)\n",
    "    \n",
    "    \n",
    "    if return_chi: return parameter_space[arg_min][0], parameter_space[arg_min][1], min (Chi_sq)\n",
    "    \n",
    "    return parameter_space[arg_min][0], parameter_space[arg_min][1]\n",
    "        "
   ]
  },
  {
   "cell_type": "markdown",
   "id": "4c438f6c-dd47-449e-8961-06062d017f78",
   "metadata": {},
   "source": [
    "# Example"
   ]
  },
  {
   "cell_type": "markdown",
   "id": "6b7a1dfd-2357-46a7-a954-73d98ee148a9",
   "metadata": {},
   "source": [
    "## Calculate GIXOS from simulations SLD"
   ]
  },
  {
   "cell_type": "code",
   "execution_count": 13,
   "id": "bed047a7-f652-4bcd-b482-ca2c3aa449db",
   "metadata": {},
   "outputs": [
    {
     "data": {
      "text/plain": [
       "Text(0, 0.5, ' Intensity [ A.U ]')"
      ]
     },
     "execution_count": 13,
     "metadata": {},
     "output_type": "execute_result"
    },
    {
     "data": {
      "image/png": "[encoded data removed]",
      "text/plain": [
       "<Figure size 432x288 with 1 Axes>"
      ]
     },
     "metadata": {
      "needs_background": "light"
     },
     "output_type": "display_data"
    }
   ],
   "source": [
    "# Load SLD profile\n",
    "\n",
    "Dens_sim = np.genfromtxt (\"./example-data/dens_46.dat\")\n",
    "\n",
    "## Convert to Angstrom cube\n",
    "Dens_sim [:,0] *= 10\n",
    "Dens_sim [:,1] /= 1e3\n",
    "\n",
    "# Obtain Rq\n",
    "Rq         =   Reflectivity_from_SLD (Dens_sim)\n",
    "\n",
    "# get bulk density\n",
    "bulk_sld   =   np.average (Dens_sim [-15:,1])\n",
    "\n",
    "# obtain fresnel coefficient\n",
    "Rf         =   Fresnal_coefficient(bulk_sld, roughness=0, return_sld=False)\n",
    "\n",
    "# q values \n",
    "q = np.linspace (1e-4, 0.8, 300)\n",
    "\n",
    "# Obtain the Vineyard function\n",
    "Vineyard = vineyard (q , rho_bulk=bulk_sld)\n",
    "\n",
    "\n",
    "# Iq from simulations \n",
    "\n",
    "I_sim =     Vineyard*Rq(q) / Rf(q)\n",
    "\n",
    "# I multiply by a scaling factor and add an offset just to make it appear like experiemnts.\n",
    "scale, offset = 5,  1\n",
    "\n",
    "plt.semilogy (q, scale*I_sim + offset)\n",
    "\n",
    "plt.xlabel (\"q [$\\mathrm{\\AA^{-1}}$]\")\n",
    "\n",
    "plt.ylabel (\" Intensity [ A.U ]\")"
   ]
  },
  {
   "cell_type": "markdown",
   "id": "42df22b7-e9d6-43bd-a7a5-1caa59a38dc0",
   "metadata": {},
   "source": [
    "## Direct comparison of experiment and simulation"
   ]
  },
  {
   "cell_type": "code",
   "execution_count": 36,
   "id": "ecee2ea8-f521-44c2-a22f-a09a0eb47550",
   "metadata": {},
   "outputs": [
    {
     "name": "stderr",
     "output_type": "stream",
     "text": [
      "100%|██████████████████████████████████████████████| 1000000/1000000 [00:41<00:00, 24149.63it/s]\n"
     ]
    },
    {
     "data": {
      "text/plain": [
       "[<matplotlib.lines.Line2D at 0x7fe77fd0ce50>]"
      ]
     },
     "execution_count": 36,
     "metadata": {},
     "output_type": "execute_result"
    },
    {
     "data": {
      "image/png": "[encoded data removed]",
      "text/plain": [
       "<Figure size 432x288 with 1 Axes>"
      ]
     },
     "metadata": {
      "needs_background": "light"
     },
     "output_type": "display_data"
    }
   ],
   "source": [
    "Iq_exp         =   np.genfromtxt (\"./example-data/gixos_exp.dat\", skip_header=10)\n",
    "q1             =   Iq_exp[:-24,4]\n",
    "I_exp1         =   Iq_exp[:-24,2]\n",
    "\n",
    "\n",
    "###\n",
    "q_exp_fit    = Iq_exp [:-50, 4] # skip some experimental point at the beginning\n",
    "I_exp_fit    = Iq_exp [:-50,2]\n",
    "\n",
    "#############################\n",
    "Vineyard = vineyard (q_exp_fit , rho_bulk=bulk_sld)\n",
    "I_sim =     Vineyard*Rq(q_exp_fit) / Rf(q_exp_fit)\n",
    "\n",
    "# Obtain optimum offset and scale factor\n",
    "kwargs = dict (min_offset = -10, max_offset=200, min_scale = 0.0, max_scale = 500) \n",
    "\n",
    "scale, offset, min_chi = search_for_scale_and_offset (experimental_Iq = I_exp_fit, simulation_Iq=I_sim, \n",
    "                                             kwargs=kwargs, N_grid_points=1000,return_chi=True)\n",
    "\n",
    "plt.semilogy (q1, I_exp1, marker='+')\n",
    "plt.semilogy (q_exp_fit, scale*I_sim+offset, lw=2)"
   ]
  },
  {
   "cell_type": "markdown",
   "id": "f05aed71-7570-4c82-a7b7-9ce11e1b7994",
   "metadata": {},
   "source": [
    "## Plot stratified electron density and the final GIXOS profiles"
   ]
  },
  {
   "cell_type": "code",
   "execution_count": 66,
   "id": "8d0f1401-62e2-434c-b1dd-25b91ce4f97b",
   "metadata": {},
   "outputs": [
    {
     "data": {
      "text/plain": [
       "Text(0.5, 0, 'z $[\\\\mathrm{\\\\AA}]$')"
      ]
     },
     "execution_count": 66,
     "metadata": {},
     "output_type": "execute_result"
    },
    {
     "data": {
      "image/png": "[encoded data removed]",
      "text/plain": [
       "<Figure size 720x360 with 2 Axes>"
      ]
     },
     "metadata": {
      "needs_background": "light"
     },
     "output_type": "display_data"
    }
   ],
   "source": [
    "fig    =     plt.figure(figsize=(10,5))\n",
    "gs     =     fig.add_gridspec(nrows=1, ncols=2,width_ratios=[1,1.5], wspace=0.4)\n",
    "\n",
    "\n",
    "Rq         =   Reflectivity_from_SLD (Dens_sim, return_sld=True)\n",
    "\n",
    "ax1    =     fig.add_subplot(gs[0, 0])\n",
    "ax1.plot (*Rq.sld_profile (), color='r')\n",
    "ax1.set_xlim (3,50)\n",
    "ax1.set_ylabel (\"$\\\\rho_e$ $[e\\mathrm{\\AA}^{-3}]$\")\n",
    "ax1.set_xlabel (\"z $[\\mathrm{\\AA}]$\")\n",
    "ax2    =     fig.add_subplot(gs[0, 1])\n",
    "\n",
    "\n",
    "ax2.semilogy (q1, I_exp1, marker='+')\n",
    "ax2.semilogy (q_exp_fit, scale*I_sim+offset, lw=2)\n",
    "\n",
    "ax2.set_ylabel (\"Intensity [A.U.]\")\n",
    "ax2.set_xlabel (\"q $[\\mathrm{\\AA}^{-01}]$\")"
   ]
  },
  {
   "cell_type": "code",
   "execution_count": null,
   "id": "cbec51cb-2501-4a35-bd89-2f55764a96fe",
   "metadata": {},
   "outputs": [],
   "source": []
  },
  {
   "cell_type": "code",
   "execution_count": 34,
   "id": "c61a3640-f86b-4fec-9433-a983df22c503",
   "metadata": {},
   "outputs": [
    {
     "data": {
      "text/plain": [
       "[<matplotlib.lines.Line2D at 0x7fe78401e4f0>]"
      ]
     },
     "execution_count": 34,
     "metadata": {},
     "output_type": "execute_result"
    },
    {
     "data": {
      "image/png": "[encoded data removed]",
      "text/plain": [
       "<Figure size 432x288 with 1 Axes>"
      ]
     },
     "metadata": {
      "needs_background": "light"
     },
     "output_type": "display_data"
    }
   ],
   "source": [
    "plt.semilogy (q_exp_fit, I_sim, lw=2)"
   ]
  },
  {
   "cell_type": "code",
   "execution_count": 23,
   "id": "8f3e9754-987d-43ee-8215-52ba76ce9583",
   "metadata": {},
   "outputs": [
    {
     "data": {
      "text/plain": [
       "437"
      ]
     },
     "execution_count": 23,
     "metadata": {},
     "output_type": "execute_result"
    }
   ],
   "source": [
    "len (q_exp_fit)"
   ]
  },
  {
   "cell_type": "code",
   "execution_count": 24,
   "id": "4fd30f6b-a084-40b9-964f-11366a319b5d",
   "metadata": {},
   "outputs": [
    {
     "data": {
      "text/plain": [
       "437"
      ]
     },
     "execution_count": 24,
     "metadata": {},
     "output_type": "execute_result"
    }
   ],
   "source": [
    "len (I_sim)"
   ]
  },
  {
   "cell_type": "code",
   "execution_count": null,
   "id": "625585a2-dea9-4297-ba2f-282cbf992c1e",
   "metadata": {},
   "outputs": [],
   "source": []
  }
 ],
 "metadata": {
  "kernelspec": {
   "display_name": "Python 3 (ipykernel)",
   "language": "python",
   "name": "python3"
  },
  "language_info": {
   "codemirror_mode": {
    "name": "ipython",
    "version": 3
   },
   "file_extension": ".py",
   "mimetype": "text/x-python",
   "name": "python",
   "nbconvert_exporter": "python",
   "pygments_lexer": "ipython3",
   "version": "3.9.12"
  },
  "toc-autonumbering": true
 },
 "nbformat": 4,
 "nbformat_minor": 5
}
